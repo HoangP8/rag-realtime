{
 "cells": [
  {
   "cell_type": "markdown",
   "metadata": {},
   "source": [
    "## Inference by direct Request"
   ]
  },
  {
   "cell_type": "code",
   "execution_count": 11,
   "metadata": {},
   "outputs": [
    {
     "name": "stdout",
     "output_type": "stream",
     "text": [
      "Full response: {'candidates': [{'content': {'parts': [{'text': \"I'm sorry to hear you're not feeling well! I'm an AI and can't provide medical advice. It's important to seek help from a healthcare professional for any health concerns. \\n\\nHere are some things you can try that might help you feel better in the meantime:\\n\\n* **Stay hydrated:** Drink plenty of water or clear broth.\\n* **Eat bland foods:** Avoid greasy, spicy, or acidic foods. Toast, crackers, and rice are good options.\\n* **Rest:** Get plenty of sleep and avoid strenuous activities.\\n* **Over-the-counter medication:** You may consider taking an over-the-counter pain reliever like ibuprofen or acetaminophen. \\n\\nIf your symptoms worsen or persist, or if you experience any of the following, please seek medical attention immediately:\\n\\n* Fever\\n* Vomiting or diarrhea\\n* Severe abdominal pain\\n* Blood in your stool\\n* Difficulty breathing\\n\\n**Remember, it's crucial to consult a doctor for a proper diagnosis and treatment.**\\n\"}], 'role': 'model'}, 'finishReason': 'STOP', 'index': 0, 'safetyRatings': [{'category': 'HARM_CATEGORY_SEXUALLY_EXPLICIT', 'probability': 'NEGLIGIBLE'}, {'category': 'HARM_CATEGORY_HATE_SPEECH', 'probability': 'NEGLIGIBLE'}, {'category': 'HARM_CATEGORY_HARASSMENT', 'probability': 'NEGLIGIBLE'}, {'category': 'HARM_CATEGORY_DANGEROUS_CONTENT', 'probability': 'NEGLIGIBLE'}]}], 'usageMetadata': {'promptTokenCount': 14, 'candidatesTokenCount': 209, 'totalTokenCount': 223}}\n",
      "Output Text: I'm sorry to hear you're not feeling well! I'm an AI and can't provide medical advice. It's important to seek help from a healthcare professional for any health concerns. \n",
      "\n",
      "Here are some things you can try that might help you feel better in the meantime:\n",
      "\n",
      "* **Stay hydrated:** Drink plenty of water or clear broth.\n",
      "* **Eat bland foods:** Avoid greasy, spicy, or acidic foods. Toast, crackers, and rice are good options.\n",
      "* **Rest:** Get plenty of sleep and avoid strenuous activities.\n",
      "* **Over-the-counter medication:** You may consider taking an over-the-counter pain reliever like ibuprofen or acetaminophen. \n",
      "\n",
      "If your symptoms worsen or persist, or if you experience any of the following, please seek medical attention immediately:\n",
      "\n",
      "* Fever\n",
      "* Vomiting or diarrhea\n",
      "* Severe abdominal pain\n",
      "* Blood in your stool\n",
      "* Difficulty breathing\n",
      "\n",
      "**Remember, it's crucial to consult a doctor for a proper diagnosis and treatment.**\n",
      "\n"
     ]
    }
   ],
   "source": [
    "import requests\n",
    "import json\n",
    "\n",
    "class GeminiClient:\n",
    "    def __init__(self, api_key_file):\n",
    "        with open(api_key_file, 'r') as file:\n",
    "            self.api_key = file.read().strip()\n",
    "        self.url = \"https://generativelanguage.googleapis.com/v1beta/models/gemini-1.5-flash-latest:generateContent\"\n",
    "\n",
    "    def call_api(self, user_input):\n",
    "        \"\"\"Send a request to the Gemini API and return the response data.\"\"\"\n",
    "        headers = {\"Content-Type\": \"application/json\"}\n",
    "        data = {\n",
    "            \"contents\": [{\n",
    "                \"parts\": [{\"text\": user_input}]\n",
    "            }]\n",
    "        }\n",
    "        response = requests.post(\n",
    "            f\"{self.url}?key={self.api_key}\",\n",
    "            headers=headers,\n",
    "            json=data\n",
    "        )\n",
    "        return response.json()\n",
    "\n",
    "    def process_input(self, user_input):\n",
    "        \"\"\"Process the user input through the Gemini API and save response to JSON.\"\"\"\n",
    "        response_data = self.call_api(user_input)\n",
    "        print(\"Full response:\", response_data)\n",
    "        self.save_response(response_data)\n",
    "        return response_data.get('candidates', [{}])[0].get('content', {}).get('parts', [{}])[0].get('text', '')\n",
    "\n",
    "    def save_response(self, data):\n",
    "        \"\"\"Save the API response data to a JSON file.\"\"\"\n",
    "        with open('request.json', 'w') as f:\n",
    "            json.dump(data, f, indent=4)\n",
    "\n",
    "# Usage\n",
    "api_key_file = 'gemini_api.txt'\n",
    "client = GeminiClient(api_key_file)\n",
    "output = client.process_input(\"I am having a stomach and slight headache, what should I do?\")\n",
    "print(\"Output Text:\", output)"
   ]
  },
  {
   "cell_type": "markdown",
   "metadata": {},
   "source": [
    "## Inference by Langchain"
   ]
  },
  {
   "cell_type": "code",
   "execution_count": 17,
   "metadata": {},
   "outputs": [
    {
     "name": "stdout",
     "output_type": "stream",
     "text": [
      "content=\"I understand you're not feeling well. I am an AI and cannot provide medical advice. It's important to consult a medical professional for any health concerns. \\n\\nHere are some general tips that might help while you wait to see a doctor:\\n\\n* **Hydrate:** Drink plenty of fluids, especially water, to stay hydrated.\\n* **Rest:** Give your body time to rest and recover.\\n* **Eat bland foods:** Avoid greasy, spicy, or acidic foods that might irritate your stomach. Stick to bland foods like toast, crackers, or rice.\\n* **Over-the-counter medication:** Consider taking over-the-counter medications like Pepto-Bismol for stomach upset or Tylenol for headache, but always follow the instructions on the label.\\n\\n**However, if your symptoms are severe or persistent, seek medical attention immediately. This could include:**\\n\\n* **Severe pain or vomiting**\\n* **Fever**\\n* **Blood in your vomit or stool**\\n* **Difficulty swallowing**\\n* **Sudden weight loss**\\n\\nRemember, it's always best to err on the side of caution and consult a doctor if you're unsure about your symptoms. \\n\" additional_kwargs={} response_metadata={'prompt_feedback': {'block_reason': 0, 'safety_ratings': []}, 'finish_reason': 'STOP', 'safety_ratings': [{'category': 'HARM_CATEGORY_SEXUALLY_EXPLICIT', 'probability': 'NEGLIGIBLE', 'blocked': False}, {'category': 'HARM_CATEGORY_HATE_SPEECH', 'probability': 'NEGLIGIBLE', 'blocked': False}, {'category': 'HARM_CATEGORY_HARASSMENT', 'probability': 'NEGLIGIBLE', 'blocked': False}, {'category': 'HARM_CATEGORY_DANGEROUS_CONTENT', 'probability': 'NEGLIGIBLE', 'blocked': False}]} id='run-3f97ffb6-3b7e-44be-af4e-018f46f7b8ed-0' usage_metadata={'input_tokens': 15, 'output_tokens': 244, 'total_tokens': 259}\n"
     ]
    }
   ],
   "source": [
    "# !pip install langchain_google_genai\n",
    "\n",
    "import os\n",
    "import json\n",
    "import markdown\n",
    "from langchain_google_genai import ChatGoogleGenerativeAI\n",
    "\n",
    "def load_api_key(file_path):\n",
    "    \"\"\"Load the API key from a specified file.\"\"\"\n",
    "    with open(file_path, 'r') as file:\n",
    "        return file.read().strip()\n",
    "\n",
    "# Load API\n",
    "api_key = load_api_key('gemini_api.txt')\n",
    "\n",
    "llm = ChatGoogleGenerativeAI(model=\"gemini-1.5-flash\", api_key=api_key)\n",
    "result = llm.invoke(\"I am having a stomach and slight headache, what should I do?\")\n",
    "print(result)\n",
    "\n",
    "# Save the response\n",
    "data_to_save = {\n",
    "    \"response\": result.content\n",
    "}\n",
    "\n",
    "with open('langchain.json', 'w') as json_file:\n",
    "    json.dump(data_to_save, json_file, indent=4)"
   ]
  },
  {
   "cell_type": "markdown",
   "metadata": {},
   "source": [
    "## Test RAG for Gemini"
   ]
  },
  {
   "cell_type": "code",
   "execution_count": 19,
   "metadata": {},
   "outputs": [],
   "source": [
    "# !pip install --quiet --upgrade langchain langchain-community langchain-chroma\n",
    "\n",
    "import getpass\n",
    "import os\n",
    "\n",
    "os.environ[\"LANGCHAIN_TRACING_V2\"] = \"true\"\n",
    "os.environ[\"LANGCHAIN_API_KEY\"] = getpass.getpass()\n",
    "\n",
    "def load_api_key(file_path):\n",
    "    \"\"\"Load the API key from a specified file.\"\"\"\n",
    "    with open(file_path, 'r') as file:\n",
    "        return file.read().strip()\n",
    "\n",
    "api_key = load_api_key('gemini_api.txt')\n",
    "\n",
    "os.environ[api_key] = getpass.getpass()\n",
    "\n",
    "from langchain_google_genai import ChatGoogleGenerativeAI\n",
    "\n",
    "llm = ChatGoogleGenerativeAI(model=\"gemini-1.5-flash\", api_key=api_key)"
   ]
  },
  {
   "cell_type": "code",
   "execution_count": null,
   "metadata": {},
   "outputs": [],
   "source": [
    "# TODO write code from here https://www.youtube.com/watch?app=desktop&v=8xVmzoP1lks&ab_channel=KarndeepSingh"
   ]
  }
 ],
 "metadata": {
  "kernelspec": {
   "display_name": "dyn",
   "language": "python",
   "name": "python3"
  },
  "language_info": {
   "codemirror_mode": {
    "name": "ipython",
    "version": 3
   },
   "file_extension": ".py",
   "mimetype": "text/x-python",
   "name": "python",
   "nbconvert_exporter": "python",
   "pygments_lexer": "ipython3",
   "version": "3.11.5"
  }
 },
 "nbformat": 4,
 "nbformat_minor": 2
}
